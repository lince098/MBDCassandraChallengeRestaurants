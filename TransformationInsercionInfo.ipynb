{
 "cells": [
  {
   "cell_type": "code",
   "execution_count": 1,
   "id": "446df6c1",
   "metadata": {},
   "outputs": [],
   "source": [
    "import json\n",
    "import numpy as np\n",
    "from cassandra.cluster import Cluster\n",
    "from utils import dumpNeighborhood, Vecindario, Restaurante"
   ]
  },
  {
   "cell_type": "markdown",
   "id": "afc338c6",
   "metadata": {},
   "source": [
    "# Falta saber si son poligonos en un plano o puntos en un globo"
   ]
  },
  {
   "cell_type": "markdown",
   "id": "7d30da01",
   "metadata": {},
   "source": [
    "## Transformación de datos restaurantes"
   ]
  },
  {
   "cell_type": "code",
   "execution_count": 2,
   "id": "f41547b7",
   "metadata": {},
   "outputs": [],
   "source": [
    "with open(\"./restaurants.json\", \"r\") as file:\n",
    "    with open('./restaurants.csv', 'w') as fileDump:\n",
    "        fileDump.write('id,location,name,type\\n')\n",
    "        while True:\n",
    "            line = file.readline()\n",
    "            if line == '':\n",
    "                break\n",
    "            restaurant = json.loads(line)\n",
    "            restaurant['location']['coordinates'].reverse()\n",
    "            dumpLine = \"{0},\\\"{1}\\\",\\\"{2}\\\",\\\"{3}\\\"\\n\".format(restaurant[\"_id\"][\"$oid\"],\n",
    "                                                   restaurant['location']['coordinates'],\n",
    "                                                   restaurant[\"name\"],\n",
    "                                                   restaurant[\"location\"][\"type\"])\n",
    "            fileDump.write(dumpLine)"
   ]
  },
  {
   "cell_type": "markdown",
   "id": "f245d8fe",
   "metadata": {},
   "source": [
    "### Transformación de vecinos"
   ]
  },
  {
   "cell_type": "code",
   "execution_count": 3,
   "id": "6a512f80",
   "metadata": {},
   "outputs": [],
   "source": [
    "with open(\"./neighborhoods.json\", \"r\") as file:\n",
    "    with open(\"./neighborhoods.csv\", \"w\") as dumpFile:\n",
    "        dumpFile.write(\n",
    "            'id, \"polygonNumber\", \"pointNumber\",name, type, point\\n')\n",
    "        while True:\n",
    "            line = file.readline()\n",
    "            if line == '':\n",
    "                break\n",
    "            neighborhood = json.loads(line)\n",
    "            dumpNeighborhood(neighborhood, dumpFile)"
   ]
  },
  {
   "cell_type": "markdown",
   "id": "5094bfcc",
   "metadata": {},
   "source": [
    "## Chequear estructura de Polygon y MultiPolygon"
   ]
  },
  {
   "cell_type": "code",
   "execution_count": 4,
   "id": "f729812e",
   "metadata": {},
   "outputs": [],
   "source": [
    "with open(\"./neighborhoods.json\", \"r\") as file:\n",
    "    type1 = ''\n",
    "    while type1 != 'MultiPolygon':\n",
    "        obj = json.loads(file.readline())\n",
    "        type1 = obj[\"geometry\"][\"type\"]"
   ]
  },
  {
   "cell_type": "code",
   "execution_count": 5,
   "id": "ab5e09aa",
   "metadata": {},
   "outputs": [
    {
     "ename": "TypeError",
     "evalue": "float() argument must be a string or a number, not 'list_reverseiterator'",
     "output_type": "error",
     "traceback": [
      "\u001b[1;31m---------------------------------------------------------------------------\u001b[0m",
      "\u001b[1;31mTypeError\u001b[0m                                 Traceback (most recent call last)",
      "Input \u001b[1;32mIn [5]\u001b[0m, in \u001b[0;36m<cell line: 1>\u001b[1;34m()\u001b[0m\n\u001b[1;32m----> 1\u001b[0m \u001b[43mVecindario\u001b[49m\u001b[43m(\u001b[49m\u001b[43mobj\u001b[49m\u001b[43m[\u001b[49m\u001b[38;5;124;43m\"\u001b[39;49m\u001b[38;5;124;43m_id\u001b[39;49m\u001b[38;5;124;43m\"\u001b[39;49m\u001b[43m]\u001b[49m\u001b[43m[\u001b[49m\u001b[38;5;124;43m\"\u001b[39;49m\u001b[38;5;124;43m$oid\u001b[39;49m\u001b[38;5;124;43m\"\u001b[39;49m\u001b[43m]\u001b[49m\u001b[43m,\u001b[49m\u001b[43m \u001b[49m\u001b[43mobj\u001b[49m\u001b[43m[\u001b[49m\u001b[38;5;124;43m'\u001b[39;49m\u001b[38;5;124;43mgeometry\u001b[39;49m\u001b[38;5;124;43m'\u001b[39;49m\u001b[43m]\u001b[49m\n\u001b[0;32m      2\u001b[0m \u001b[43m           \u001b[49m\u001b[43m[\u001b[49m\u001b[38;5;124;43m'\u001b[39;49m\u001b[38;5;124;43mtype\u001b[39;49m\u001b[38;5;124;43m'\u001b[39;49m\u001b[43m]\u001b[49m\u001b[43m,\u001b[49m\u001b[43m \u001b[49m\u001b[43mobj\u001b[49m\u001b[43m[\u001b[49m\u001b[38;5;124;43m'\u001b[39;49m\u001b[38;5;124;43mgeometry\u001b[39;49m\u001b[38;5;124;43m'\u001b[39;49m\u001b[43m]\u001b[49m\u001b[43m[\u001b[49m\u001b[38;5;124;43m'\u001b[39;49m\u001b[38;5;124;43mcoordinates\u001b[39;49m\u001b[38;5;124;43m'\u001b[39;49m\u001b[43m]\u001b[49m\u001b[43m)\u001b[49m\n",
      "File \u001b[1;32m~\\Desktop\\Master BigData e IA\\3. Gestion de Bases de Datos\\Ejercicios Cassandra\\ChallengeCassandra\\utils.py:19\u001b[0m, in \u001b[0;36mVecindario.__init__\u001b[1;34m(self, id, tipo, puntos)\u001b[0m\n\u001b[0;32m     17\u001b[0m \u001b[38;5;28;01melse\u001b[39;00m:\n\u001b[0;32m     18\u001b[0m     \u001b[38;5;28;01mfor\u001b[39;00m i \u001b[38;5;129;01min\u001b[39;00m \u001b[38;5;28mrange\u001b[39m(\u001b[38;5;28mlen\u001b[39m(puntos)):\n\u001b[1;32m---> 19\u001b[0m         \u001b[38;5;28;43mself\u001b[39;49m\u001b[38;5;241;43m.\u001b[39;49m\u001b[43maddPolygon\u001b[49m\u001b[43m(\u001b[49m\u001b[38;5;28;43mlist\u001b[39;49m\u001b[43m(\u001b[49m\u001b[38;5;28;43mmap\u001b[39;49m\u001b[43m(\u001b[49m\u001b[38;5;28;43mreversed\u001b[39;49m\u001b[43m,\u001b[49m\u001b[43m \u001b[49m\u001b[43mpuntos\u001b[49m\u001b[43m[\u001b[49m\u001b[43mi\u001b[49m\u001b[43m]\u001b[49m\u001b[43m[\u001b[49m\u001b[38;5;241;43m0\u001b[39;49m\u001b[43m]\u001b[49m\u001b[43m)\u001b[49m\u001b[43m)\u001b[49m\u001b[43m)\u001b[49m\n",
      "File \u001b[1;32m~\\Desktop\\Master BigData e IA\\3. Gestion de Bases de Datos\\Ejercicios Cassandra\\ChallengeCassandra\\utils.py:22\u001b[0m, in \u001b[0;36mVecindario.addPolygon\u001b[1;34m(self, puntos)\u001b[0m\n\u001b[0;32m     21\u001b[0m \u001b[38;5;28;01mdef\u001b[39;00m \u001b[38;5;21maddPolygon\u001b[39m(\u001b[38;5;28mself\u001b[39m, puntos):\n\u001b[1;32m---> 22\u001b[0m     \u001b[38;5;28mself\u001b[39m\u001b[38;5;241m.\u001b[39mpolygons\u001b[38;5;241m.\u001b[39mappend(\u001b[43mmplPath\u001b[49m\u001b[38;5;241;43m.\u001b[39;49m\u001b[43mPath\u001b[49m\u001b[43m(\u001b[49m\u001b[43mnp\u001b[49m\u001b[38;5;241;43m.\u001b[39;49m\u001b[43marray\u001b[49m\u001b[43m(\u001b[49m\u001b[43mpuntos\u001b[49m\u001b[43m)\u001b[49m\u001b[43m)\u001b[49m)\n",
      "File \u001b[1;32m~\\anaconda3\\lib\\site-packages\\matplotlib\\path.py:129\u001b[0m, in \u001b[0;36mPath.__init__\u001b[1;34m(self, vertices, codes, _interpolation_steps, closed, readonly)\u001b[0m\n\u001b[0;32m     99\u001b[0m \u001b[38;5;28;01mdef\u001b[39;00m \u001b[38;5;21m__init__\u001b[39m(\u001b[38;5;28mself\u001b[39m, vertices, codes\u001b[38;5;241m=\u001b[39m\u001b[38;5;28;01mNone\u001b[39;00m, _interpolation_steps\u001b[38;5;241m=\u001b[39m\u001b[38;5;241m1\u001b[39m,\n\u001b[0;32m    100\u001b[0m              closed\u001b[38;5;241m=\u001b[39m\u001b[38;5;28;01mFalse\u001b[39;00m, readonly\u001b[38;5;241m=\u001b[39m\u001b[38;5;28;01mFalse\u001b[39;00m):\n\u001b[0;32m    101\u001b[0m     \u001b[38;5;124;03m\"\"\"\u001b[39;00m\n\u001b[0;32m    102\u001b[0m \u001b[38;5;124;03m    Create a new path with the given vertices and codes.\u001b[39;00m\n\u001b[0;32m    103\u001b[0m \n\u001b[1;32m   (...)\u001b[0m\n\u001b[0;32m    127\u001b[0m \u001b[38;5;124;03m        and codes as read-only arrays.\u001b[39;00m\n\u001b[0;32m    128\u001b[0m \u001b[38;5;124;03m    \"\"\"\u001b[39;00m\n\u001b[1;32m--> 129\u001b[0m     vertices \u001b[38;5;241m=\u001b[39m \u001b[43m_to_unmasked_float_array\u001b[49m\u001b[43m(\u001b[49m\u001b[43mvertices\u001b[49m\u001b[43m)\u001b[49m\n\u001b[0;32m    130\u001b[0m     _api\u001b[38;5;241m.\u001b[39mcheck_shape((\u001b[38;5;28;01mNone\u001b[39;00m, \u001b[38;5;241m2\u001b[39m), vertices\u001b[38;5;241m=\u001b[39mvertices)\n\u001b[0;32m    132\u001b[0m     \u001b[38;5;28;01mif\u001b[39;00m codes \u001b[38;5;129;01mis\u001b[39;00m \u001b[38;5;129;01mnot\u001b[39;00m \u001b[38;5;28;01mNone\u001b[39;00m:\n",
      "File \u001b[1;32m~\\anaconda3\\lib\\site-packages\\matplotlib\\cbook\\__init__.py:1298\u001b[0m, in \u001b[0;36m_to_unmasked_float_array\u001b[1;34m(x)\u001b[0m\n\u001b[0;32m   1296\u001b[0m     \u001b[38;5;28;01mreturn\u001b[39;00m np\u001b[38;5;241m.\u001b[39mma\u001b[38;5;241m.\u001b[39masarray(x, \u001b[38;5;28mfloat\u001b[39m)\u001b[38;5;241m.\u001b[39mfilled(np\u001b[38;5;241m.\u001b[39mnan)\n\u001b[0;32m   1297\u001b[0m \u001b[38;5;28;01melse\u001b[39;00m:\n\u001b[1;32m-> 1298\u001b[0m     \u001b[38;5;28;01mreturn\u001b[39;00m \u001b[43mnp\u001b[49m\u001b[38;5;241;43m.\u001b[39;49m\u001b[43masarray\u001b[49m\u001b[43m(\u001b[49m\u001b[43mx\u001b[49m\u001b[43m,\u001b[49m\u001b[43m \u001b[49m\u001b[38;5;28;43mfloat\u001b[39;49m\u001b[43m)\u001b[49m\n",
      "\u001b[1;31mTypeError\u001b[0m: float() argument must be a string or a number, not 'list_reverseiterator'"
     ]
    }
   ],
   "source": [
    "Vecindario(obj[\"_id\"][\"$oid\"], obj['geometry']\n",
    "           ['type'], obj['geometry']['coordinates'])"
   ]
  },
  {
   "cell_type": "markdown",
   "id": "9e00e579",
   "metadata": {},
   "source": [
    "## Generar información para la consulta restaurantes por vecindario"
   ]
  },
  {
   "cell_type": "code",
   "execution_count": null,
   "id": "5395cc42",
   "metadata": {},
   "outputs": [],
   "source": [
    "with open(\"./neighborhoods.json\", \"r\") as file:\n",
    "    i = 0\n",
    "    neighborhoods = []\n",
    "    while True:\n",
    "        line = file.readline()\n",
    "        if line == '':\n",
    "            break\n",
    "        obj = json.loads(line)\n",
    "        neighborhoods.append(Vecindario(\n",
    "            obj[\"_id\"][\"$oid\"], obj['geometry']['type'], obj['geometry']['coordinates']))"
   ]
  },
  {
   "cell_type": "code",
   "execution_count": null,
   "id": "4b080358",
   "metadata": {},
   "outputs": [],
   "source": [
    "with open(\"./restaurants.json\", \"r\") as file:\n",
    "    restaurants = []\n",
    "    while True:\n",
    "        line = file.readline()\n",
    "        if line == '':\n",
    "            break\n",
    "        obj = json.loads(line)\n",
    "        restaurants.append(Restaurante(\n",
    "            obj['_id']['$oid'], obj['location']['coordinates']))"
   ]
  },
  {
   "cell_type": "code",
   "execution_count": null,
   "id": "ce03827e",
   "metadata": {},
   "outputs": [],
   "source": [
    "tuplas = []\n",
    "for restaurant in restaurants:\n",
    "    for neighborhood in neighborhoods:\n",
    "        estaDentro = neighborhood.estaDentro(restaurant)\n",
    "        if estaDentro is not None:\n",
    "            tuplas.append(estaDentro)\n",
    "            break"
   ]
  },
  {
   "cell_type": "code",
   "execution_count": null,
   "id": "47c70fdb",
   "metadata": {},
   "outputs": [],
   "source": [
    "if len(restaurants) - len(tuplas) == 0:\n",
    "    print('Todos los restaurantes están dentro de un vecindario')\n",
    "else:\n",
    "    print('Hay restaurantes que no se encuentran en ningún vecindario')"
   ]
  },
  {
   "cell_type": "code",
   "execution_count": null,
   "id": "44d6b833",
   "metadata": {},
   "outputs": [],
   "source": [
    "with open('RestaurantesPorVecindario.csv', 'w') as file:\n",
    "    file.write('id_vecindario,polygonNumber,id_restaurante\\n')\n",
    "    for tupla in tuplas:\n",
    "        file.write(f\"'{tupla[0]}',{tupla[1]},'{tupla[2]}'\\n\")"
   ]
  }
 ],
 "metadata": {
  "kernelspec": {
   "display_name": "Python 3 (ipykernel)",
   "language": "python",
   "name": "python3"
  },
  "language_info": {
   "codemirror_mode": {
    "name": "ipython",
    "version": 3
   },
   "file_extension": ".py",
   "mimetype": "text/x-python",
   "name": "python",
   "nbconvert_exporter": "python",
   "pygments_lexer": "ipython3",
   "version": "3.9.12"
  },
  "vscode": {
   "interpreter": {
    "hash": "023d97d89b63b7949e99a8140551ed3814c3d60ec4ba47216d6a0b6c7539f913"
   }
  }
 },
 "nbformat": 4,
 "nbformat_minor": 5
}

{
 "cells": [
  {
   "cell_type": "code",
   "execution_count": 3,
   "id": "18a832b5",
   "metadata": {},
   "outputs": [],
   "source": [
    "import pandas as pd\n",
    "import numpy as np\n",
    "from cassandra.cluster import Cluster"
   ]
  },
  {
   "cell_type": "code",
   "execution_count": 15,
   "id": "7a8af156",
   "metadata": {},
   "outputs": [],
   "source": [
    "multipolygonNeighborhoods = ('55cb9c666c522cafdb053a54',\n",
    "                             '55cb9c666c522cafdb053a97')\n",
    "# ,\n",
    "#                           '55cb9c666c522cafdb053a90',\n",
    "#                          '55cb9c666c522cafdb053a91')"
   ]
  },
  {
   "cell_type": "code",
   "execution_count": 30,
   "id": "c82f9c35",
   "metadata": {},
   "outputs": [],
   "source": [
    "with Cluster() as cluster:\n",
    "    with cluster.connect('challenge') as session:\n",
    "        result = session.execute(\n",
    "            'select * from neighborhoods where id in ' + str(multipolygonNeighborhoods) + 'limit 10')"
   ]
  },
  {
   "cell_type": "code",
   "execution_count": 31,
   "id": "74014b31",
   "metadata": {},
   "outputs": [
    {
     "name": "stdout",
     "output_type": "stream",
     "text": [
      "Row(id='55cb9c666c522cafdb053a54', polygonNumber=0, pointNumber=0, name='Stuyvesant Town-Cooper Village', type='MultiPolygon', point=[-73.96236596889439, 40.72420906161424])\n",
      "Row(id='55cb9c666c522cafdb053a54', polygonNumber=0, pointNumber=1, name='Stuyvesant Town-Cooper Village', type='MultiPolygon', point=[-73.96200744799043, 40.72399190110518])\n",
      "Row(id='55cb9c666c522cafdb053a54', polygonNumber=0, pointNumber=2, name='Stuyvesant Town-Cooper Village', type='MultiPolygon', point=[-73.96207271943857, 40.72388030090549])\n",
      "Row(id='55cb9c666c522cafdb053a54', polygonNumber=0, pointNumber=3, name='Stuyvesant Town-Cooper Village', type='MultiPolygon', point=[-73.96246790011055, 40.72413157960125])\n",
      "Row(id='55cb9c666c522cafdb053a54', polygonNumber=0, pointNumber=4, name='Stuyvesant Town-Cooper Village', type='MultiPolygon', point=[-73.96247195112903, 40.724174989273486])\n",
      "Row(id='55cb9c666c522cafdb053a54', polygonNumber=0, pointNumber=5, name='Stuyvesant Town-Cooper Village', type='MultiPolygon', point=[-73.96244340911454, 40.72419978497875])\n",
      "Row(id='55cb9c666c522cafdb053a54', polygonNumber=0, pointNumber=6, name='Stuyvesant Town-Cooper Village', type='MultiPolygon', point=[-73.96239043044633, 40.724193567186745])\n",
      "Row(id='55cb9c666c522cafdb053a54', polygonNumber=0, pointNumber=7, name='Stuyvesant Town-Cooper Village', type='MultiPolygon', point=[-73.96236596889439, 40.72420906161424])\n",
      "Row(id='55cb9c666c522cafdb053a54', polygonNumber=1, pointNumber=0, name='Stuyvesant Town-Cooper Village', type='MultiPolygon', point=[-73.97511055362172, 40.735390255185294])\n",
      "Row(id='55cb9c666c522cafdb053a54', polygonNumber=1, pointNumber=1, name='Stuyvesant Town-Cooper Village', type='MultiPolygon', point=[-73.97495992976468, 40.73536871799873])\n"
     ]
    }
   ],
   "source": [
    "for item in result:\n",
    "    print(item)"
   ]
  },
  {
   "cell_type": "code",
   "execution_count": 32,
   "id": "92827745",
   "metadata": {},
   "outputs": [],
   "source": [
    "lista =[]"
   ]
  },
  {
   "cell_type": "code",
   "execution_count": null,
   "id": "495c287d",
   "metadata": {},
   "outputs": [],
   "source": [
    "lista.append"
   ]
  }
 ],
 "metadata": {
  "kernelspec": {
   "display_name": "Python 3 (ipykernel)",
   "language": "python",
   "name": "python3"
  },
  "language_info": {
   "codemirror_mode": {
    "name": "ipython",
    "version": 3
   },
   "file_extension": ".py",
   "mimetype": "text/x-python",
   "name": "python",
   "nbconvert_exporter": "python",
   "pygments_lexer": "ipython3",
   "version": "3.9.12"
  }
 },
 "nbformat": 4,
 "nbformat_minor": 5
}

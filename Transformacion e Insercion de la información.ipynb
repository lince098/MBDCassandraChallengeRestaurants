{
 "cells": [
  {
   "cell_type": "code",
   "execution_count": 1,
   "id": "446df6c1",
   "metadata": {},
   "outputs": [],
   "source": [
    "import json\n",
    "import numpy as np\n",
    "from cassandra.cluster import Cluster\n",
    "from utils import dumpNeighborhood, Vecindario, Restaurante"
   ]
  },
  {
   "cell_type": "markdown",
   "id": "7d30da01",
   "metadata": {},
   "source": [
    "## Transformación de datos de restaurantes"
   ]
  },
  {
   "cell_type": "code",
   "execution_count": 2,
   "id": "f41547b7",
   "metadata": {},
   "outputs": [],
   "source": [
    "with open(\"./restaurants.json\", \"r\") as file:\n",
    "    with open('./restaurants.csv', 'w') as fileDump:\n",
    "        fileDump.write('id,location,name,type\\n')\n",
    "        while True:\n",
    "            line = file.readline()\n",
    "            if line == '':\n",
    "                break\n",
    "            restaurant = json.loads(line)\n",
    "            restaurant['location']['coordinates'].reverse()\n",
    "            dumpLine = \"{0},\\\"{1}\\\",\\\"{2}\\\",\\\"{3}\\\"\\n\".format(restaurant[\"_id\"][\"$oid\"],\n",
    "                                                   restaurant['location']['coordinates'],\n",
    "                                                   restaurant[\"name\"],\n",
    "                                                   restaurant[\"location\"][\"type\"])\n",
    "            fileDump.write(dumpLine)"
   ]
  },
  {
   "cell_type": "markdown",
   "id": "f245d8fe",
   "metadata": {},
   "source": [
    "## Transformación de datos de vecinos"
   ]
  },
  {
   "cell_type": "code",
   "execution_count": 3,
   "id": "6a512f80",
   "metadata": {},
   "outputs": [],
   "source": [
    "with open(\"./neighborhoods.json\", \"r\") as file:\n",
    "    with open(\"./neighborhoods.csv\", \"w\") as dumpFile:\n",
    "        dumpFile.write(\n",
    "            'id, \"polygonNumber\", \"pointNumber\",name, type, point\\n')\n",
    "        while True:\n",
    "            line = file.readline()\n",
    "            if line == '':\n",
    "                break\n",
    "            neighborhood = json.loads(line)\n",
    "            dumpNeighborhood(neighborhood, dumpFile)"
   ]
  },
  {
   "cell_type": "markdown",
   "id": "9e00e579",
   "metadata": {},
   "source": [
    "## Generar información para la consulta restaurantes por vecindario"
   ]
  },
  {
   "cell_type": "code",
   "execution_count": 4,
   "id": "5395cc42",
   "metadata": {},
   "outputs": [],
   "source": [
    "with open(\"./neighborhoods.json\", \"r\") as file:\n",
    "    i = 0\n",
    "    neighborhoods = []\n",
    "    while True:\n",
    "        line = file.readline()\n",
    "        if line == '':\n",
    "            break\n",
    "        obj = json.loads(line)\n",
    "        neighborhoods.append(Vecindario(\n",
    "            obj[\"_id\"][\"$oid\"], obj['geometry']['type'], obj['geometry']['coordinates']))"
   ]
  },
  {
   "cell_type": "code",
   "execution_count": 5,
   "id": "4b080358",
   "metadata": {},
   "outputs": [],
   "source": [
    "with open(\"./restaurants.json\", \"r\") as file:\n",
    "    restaurants = []\n",
    "    while True:\n",
    "        line = file.readline()\n",
    "        if line == '':\n",
    "            break\n",
    "        obj = json.loads(line)\n",
    "        restaurants.append(Restaurante(\n",
    "            obj['_id']['$oid'], obj['location']['coordinates']))"
   ]
  },
  {
   "cell_type": "code",
   "execution_count": 6,
   "id": "ce03827e",
   "metadata": {},
   "outputs": [],
   "source": [
    "tuplas = []\n",
    "for restaurant in restaurants:\n",
    "    for neighborhood in neighborhoods:\n",
    "        estaDentro = neighborhood.estaDentro(restaurant)\n",
    "        if estaDentro is not None:\n",
    "            tuplas.append(estaDentro)\n",
    "            break"
   ]
  },
  {
   "cell_type": "code",
   "execution_count": 7,
   "id": "44d6b833",
   "metadata": {},
   "outputs": [],
   "source": [
    "with open('RestaurantesPorVecindario.csv', 'w') as file:\n",
    "    file.write('id_vecindario,polygonNumber,id_restaurante\\n')\n",
    "    for tupla in tuplas:\n",
    "        file.write(f\"{tupla[0]},{tupla[1]},{tupla[2]}\\n\")"
   ]
  },
  {
   "cell_type": "markdown",
   "id": "b3485b5a",
   "metadata": {},
   "source": [
    "Una vez generados los ficheros se envían al volumen en docker y se ejecutan las siguientes sentencias:\n",
    "* copy restaurantsbyneighborhood (id_neighborhood,\"polygonNumber\",id_restaurant) from '/var/lib/cassandra/challenge/RestaurantesPorVecindario.csv' with HEADER=TRUE;\n",
    "\n",
    "* copy neighborhoods (id, \"polygonNumber\",\"pointNumber\",name,type,point) from '/var/lib/cassandra/challenge/neighborhoods.csv' with HEADER=TRUE;\n",
    "\n",
    "* copy restaurants (id,location,name,type) from '/var/lib/cassandra/challenge/restaurants.csv' with HEADER=TRUE;"
   ]
  }
 ],
 "metadata": {
  "kernelspec": {
   "display_name": "Python 3 (ipykernel)",
   "language": "python",
   "name": "python3"
  },
  "language_info": {
   "codemirror_mode": {
    "name": "ipython",
    "version": 3
   },
   "file_extension": ".py",
   "mimetype": "text/x-python",
   "name": "python",
   "nbconvert_exporter": "python",
   "pygments_lexer": "ipython3",
   "version": "3.9.12"
  },
  "vscode": {
   "interpreter": {
    "hash": "023d97d89b63b7949e99a8140551ed3814c3d60ec4ba47216d6a0b6c7539f913"
   }
  }
 },
 "nbformat": 4,
 "nbformat_minor": 5
}
